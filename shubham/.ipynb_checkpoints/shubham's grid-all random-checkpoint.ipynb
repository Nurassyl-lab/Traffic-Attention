{
 "cells": [
  {
   "cell_type": "code",
   "execution_count": 1,
   "id": "fa2b0c76",
   "metadata": {},
   "outputs": [],
   "source": [
    "#!/usr/bin/env python\n",
    "import numpy as np\n",
    "import matplotlib.pyplot as plt\n",
    "import matplotlib.gridspec as gridspec\n",
    "import io\n",
    "from PIL import Image\n",
    "import os\n",
    "from IPython.display import Image as IPImage\n",
    "import torch\n",
    "from PIL import Image as PILImage\n",
    "from matplotlib.animation import FuncAnimation\n",
    "from IPython.display import display, HTML\n",
    "import ipywidgets as widgets\n",
    "from IPython.display import display, IFrame\n",
    "from matplotlib.animation import HTMLWriter\n",
    "from matplotlib.patches import Circle"
   ]
  },
  {
   "cell_type": "code",
   "execution_count": 2,
   "id": "878dc071",
   "metadata": {},
   "outputs": [],
   "source": [
    "class Entity:\n",
    "    def __init__(self, x, y, entity_type):\n",
    "        self.x = x\n",
    "        self.y = y\n",
    "        self.type = entity_type\n",
    "\n",
    "    def move(self, dx, dy):\n",
    "        self.x += dx\n",
    "        self.y += dy\n",
    "\n",
    "def detect_collision(entities):\n",
    "    collisions = []\n",
    "    for i in range(len(entities)):\n",
    "        for j in range(i+1, len(entities)):\n",
    "            if entities[i].x == entities[j].x and entities[i].y == entities[j].y:\n",
    "                collisions.append((entities[i], entities[j]))\n",
    "    return collisions"
   ]
  },
  {
   "cell_type": "code",
   "execution_count": 3,
   "id": "72f7bb3c",
   "metadata": {},
   "outputs": [],
   "source": [
    "class SyntheticDataGenerator:\n",
    "    def __init__(self, grid_size=10, num_vehicles=5, num_pedestrians=5, num_obstacles=5):\n",
    "        self.grid_size = grid_size\n",
    "        self.num_vehicles = num_vehicles\n",
    "        self.num_pedestrians = num_pedestrians\n",
    "        self.num_obstacles = num_obstacles\n",
    "\n",
    "    def generate_data(self, num_samples=100, num_steps=10):\n",
    "        data = []\n",
    "        for _ in range(num_samples):\n",
    "            scenario = []\n",
    "            entities = []\n",
    "            for _ in range(self.num_vehicles):\n",
    "                x, y = np.random.randint(0, self.grid_size, size=2)\n",
    "                entities.append(Entity(x, y, 'vehicle'))\n",
    "            for _ in range(self.num_pedestrians):\n",
    "                x, y = np.random.randint(0, self.grid_size, size=2)\n",
    "                entities.append(Entity(x, y, 'pedestrian'))\n",
    "            for _ in range(self.num_obstacles):\n",
    "                x, y = np.random.randint(0, self.grid_size, size=2)\n",
    "                entities.append(Entity(x, y, 'obstacle'))\n",
    "            scenario.append(entities)\n",
    "            for _ in range(num_steps - 1):\n",
    "                new_entities = []\n",
    "                for entity in entities:\n",
    "                    dx, dy = np.random.randint(-1, 2, size=2)\n",
    "                    new_entity = Entity(entity.x, entity.y, entity.type)\n",
    "                    new_entity.move(dx, dy)\n",
    "                    new_entities.append(new_entity)\n",
    "                scenario.append(new_entities)\n",
    "            data.append(scenario)\n",
    "        return data\n",
    "\n",
    "    def visualize_data(self, scenario, sample_id):\n",
    "        fig, ax = plt.subplots(figsize=(6, 6))\n",
    "        collision_frames = []\n",
    "        collision_locations = []\n",
    "\n",
    "        # Pre-compute collision frames and locations\n",
    "        for frame, entities in enumerate(scenario):\n",
    "            collisions = detect_collision(entities)\n",
    "            if collisions:\n",
    "                collision_frames.append(frame)\n",
    "                for entity1, entity2 in collisions:\n",
    "                    collision_locations.append((entity1.x, entity1.y))\n",
    "\n",
    "        def update(frame):\n",
    "            ax.clear()\n",
    "            entities = scenario[frame]\n",
    "            \n",
    "            # Draw entities\n",
    "            for entity in entities:\n",
    "                if entity.type == 'vehicle':\n",
    "                    ax.scatter(entity.x, entity.y, color='red', marker='o')\n",
    "                elif entity.type == 'pedestrian':\n",
    "                    ax.scatter(entity.x, entity.y, color='blue', marker='^')\n",
    "                else:\n",
    "                    ax.scatter(entity.x, entity.y, color='green', marker='s')\n",
    "\n",
    "            # Draw collision circles if this is a collision frame\n",
    "            if frame in collision_frames:\n",
    "                for x, y in collision_locations:\n",
    "                    circle = Circle((x, y), radius=1.0, color='red', alpha=0.3)\n",
    "                    ax.add_patch(circle)\n",
    "                ax.text(0.02, 0.98, 'COLLISION!', transform=ax.transAxes, \n",
    "                       color='red', fontsize=12, verticalalignment='top')\n",
    "\n",
    "            ax.set_xlim(-1, self.grid_size + 1)\n",
    "            ax.set_ylim(-1, self.grid_size + 1)\n",
    "            ax.set_title(f\"Time Step {frame+1}\")\n",
    "            ax.grid(True)\n",
    "\n",
    "        ani = FuncAnimation(fig, update, frames=len(scenario), interval=500, repeat=False)\n",
    "\n",
    "        # Create the animations folder if it doesn't exist\n",
    "        os.makedirs('animations', exist_ok=True)\n",
    "\n",
    "        # Save the animation as an HTML file\n",
    "        html_path = f'animations/scenario_{sample_id}.html'\n",
    "        writer = HTMLWriter(fps=2)\n",
    "        ani.save(html_path, writer=writer)\n",
    "\n",
    "        plt.close(fig)\n",
    "        return html_path"
   ]
  },
  {
   "cell_type": "code",
   "execution_count": 4,
   "id": "c9d7fc39",
   "metadata": {},
   "outputs": [
    {
     "name": "stdout",
     "output_type": "stream",
     "text": [
      "Scenario 1:\n"
     ]
    },
    {
     "data": {
      "text/html": [
       "\n",
       "        <iframe\n",
       "            width=\"600\"\n",
       "            height=\"600\"\n",
       "            src=\"animations/scenario_1.html\"\n",
       "            frameborder=\"0\"\n",
       "            allowfullscreen\n",
       "            \n",
       "        ></iframe>\n",
       "        "
      ],
      "text/plain": [
       "<IPython.lib.display.IFrame at 0x7f0a1fff2920>"
      ]
     },
     "metadata": {},
     "output_type": "display_data"
    },
    {
     "name": "stdout",
     "output_type": "stream",
     "text": [
      "Collision detected at time step 6\n",
      "Scenario 2:\n"
     ]
    },
    {
     "data": {
      "text/html": [
       "\n",
       "        <iframe\n",
       "            width=\"600\"\n",
       "            height=\"600\"\n",
       "            src=\"animations/scenario_2.html\"\n",
       "            frameborder=\"0\"\n",
       "            allowfullscreen\n",
       "            \n",
       "        ></iframe>\n",
       "        "
      ],
      "text/plain": [
       "<IPython.lib.display.IFrame at 0x7f0a1fff35b0>"
      ]
     },
     "metadata": {},
     "output_type": "display_data"
    },
    {
     "name": "stdout",
     "output_type": "stream",
     "text": [
      "Collision detected at time step 1\n"
     ]
    }
   ],
   "source": [
    "generator = SyntheticDataGenerator(grid_size=30, num_vehicles=3, num_pedestrians=3, num_obstacles=3)\n",
    "data = generator.generate_data(num_samples=2, num_steps=20)\n",
    "\n",
    "for i, scenario in enumerate(data):\n",
    "    print(f\"Scenario {i+1}:\")\n",
    "    html_path = generator.visualize_data(scenario, sample_id=i+1)\n",
    "    display(IFrame(src=html_path, width=600, height=600))\n",
    "\n",
    "    for j, entities in enumerate(scenario):\n",
    "        if detect_collision(entities):\n",
    "            print(f\"Collision detected at time step {j+1}\")\n",
    "            break\n",
    "    else:\n",
    "        print(\"No collision detected\")"
   ]
  },
  {
   "cell_type": "code",
   "execution_count": null,
   "id": "19d196c2",
   "metadata": {},
   "outputs": [],
   "source": []
  }
 ],
 "metadata": {
  "kernelspec": {
   "display_name": "Python 3 (ipykernel)",
   "language": "python",
   "name": "python3"
  },
  "language_info": {
   "codemirror_mode": {
    "name": "ipython",
    "version": 3
   },
   "file_extension": ".py",
   "mimetype": "text/x-python",
   "name": "python",
   "nbconvert_exporter": "python",
   "pygments_lexer": "ipython3",
   "version": "3.10.9"
  }
 },
 "nbformat": 4,
 "nbformat_minor": 5
}
